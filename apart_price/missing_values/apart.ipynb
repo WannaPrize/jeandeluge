{
 "cells": [
  {
   "cell_type": "code",
   "execution_count": 1,
   "metadata": {},
   "outputs": [],
   "source": [
    "# visualization\n",
    "import matplotlib.pyplot as plt\n",
    "import matplotlib.font_manager as fm\n",
    "fe = fm.FontEntry(\n",
    "    fname=r'/usr/share/fonts/truetype/nanum/NanumGothic.ttf', # ttf 파일이 저장되어 있는 경로\n",
    "    name='NanumBarunGothic')                        # 이 폰트의 원하는 이름 설정\n",
    "fm.fontManager.ttflist.insert(0, fe)              # Matplotlib에 폰트 추가\n",
    "plt.rcParams.update({'font.size': 10, 'font.family': 'NanumBarunGothic'}) # 폰트 설정\n",
    "plt.rc('font', family='NanumBarunGothic')\n",
    "import seaborn as sns\n",
    "\n",
    "# utils\n",
    "import pandas as pd\n",
    "import numpy as np\n",
    "from tqdm import tqdm\n",
    "import pickle\n",
    "import warnings;warnings.filterwarnings('ignore')\n",
    "\n",
    "# Model\n",
    "from sklearn.preprocessing import LabelEncoder, OneHotEncoder\n",
    "from sklearn.model_selection import train_test_split\n",
    "from sklearn.metrics import mean_squared_error\n",
    "from sklearn.ensemble import RandomForestRegressor\n",
    "from sklearn import metrics\n",
    "\n",
    "import eli5\n",
    "from eli5.sklearn import PermutationImportance"
   ]
  },
  {
   "cell_type": "code",
   "execution_count": 2,
   "metadata": {},
   "outputs": [],
   "source": [
    "origin_test_path =\"../../data/test.csv\"\n",
    "origin_train_path = \"../../data/train.csv\""
   ]
  },
  {
   "cell_type": "code",
   "execution_count": 3,
   "metadata": {},
   "outputs": [],
   "source": [
    "dt = pd.read_csv(origin_train_path)\n",
    "dt_test = pd.read_csv(origin_test_path)"
   ]
  },
  {
   "cell_type": "code",
   "execution_count": 4,
   "metadata": {},
   "outputs": [],
   "source": [
    "apart_code_path=\"../../data/apart_cod.csv\""
   ]
  },
  {
   "cell_type": "code",
   "execution_count": 5,
   "metadata": {},
   "outputs": [],
   "source": [
    "apart_code_df = pd.read_csv(apart_code_path)"
   ]
  },
  {
   "cell_type": "code",
   "execution_count": 6,
   "metadata": {},
   "outputs": [],
   "source": [
    "concat = pd.concat([dt, dt_test])"
   ]
  },
  {
   "cell_type": "code",
   "execution_count": 7,
   "metadata": {},
   "outputs": [],
   "source": [
    "apart_code_df['단지명'] = apart_code_df['단지명_건축물대장'].str.replace('아파트', '', regex=False)\n",
    "apart_code_df['단지고유번호'] = apart_code_df['단지고유번호'].astype(str)"
   ]
  },
  {
   "cell_type": "code",
   "execution_count": 8,
   "metadata": {},
   "outputs": [],
   "source": [
    "apart_code_df = apart_code_df.rename(columns={\"동수\": \"k-전체동수\"})"
   ]
  },
  {
   "cell_type": "code",
   "execution_count": 10,
   "metadata": {},
   "outputs": [],
   "source": [
    "concat = concat.merge(apart_code_df[['단지명', '단지고유번호', 'k-전체동수', '세대수', \"사용승인일\"]],\n",
    "                      left_on='아파트명',\n",
    "                      right_on='단지명',\n",
    "                      how='left')"
   ]
  },
  {
   "cell_type": "code",
   "execution_count": 11,
   "metadata": {},
   "outputs": [
    {
     "data": {
      "text/html": [
       "<div>\n",
       "<style scoped>\n",
       "    .dataframe tbody tr th:only-of-type {\n",
       "        vertical-align: middle;\n",
       "    }\n",
       "\n",
       "    .dataframe tbody tr th {\n",
       "        vertical-align: top;\n",
       "    }\n",
       "\n",
       "    .dataframe thead th {\n",
       "        text-align: right;\n",
       "    }\n",
       "</style>\n",
       "<table border=\"1\" class=\"dataframe\">\n",
       "  <thead>\n",
       "    <tr style=\"text-align: right;\">\n",
       "      <th></th>\n",
       "      <th>시군구</th>\n",
       "      <th>번지</th>\n",
       "      <th>본번</th>\n",
       "      <th>부번</th>\n",
       "      <th>아파트명</th>\n",
       "      <th>전용면적(㎡)</th>\n",
       "      <th>계약년월</th>\n",
       "      <th>계약일</th>\n",
       "      <th>층</th>\n",
       "      <th>건축년도</th>\n",
       "      <th>...</th>\n",
       "      <th>관리비 업로드</th>\n",
       "      <th>좌표X</th>\n",
       "      <th>좌표Y</th>\n",
       "      <th>단지신청일</th>\n",
       "      <th>target</th>\n",
       "      <th>단지명</th>\n",
       "      <th>단지고유번호</th>\n",
       "      <th>k-전체동수_y</th>\n",
       "      <th>세대수</th>\n",
       "      <th>사용승인일</th>\n",
       "    </tr>\n",
       "  </thead>\n",
       "  <tbody>\n",
       "    <tr>\n",
       "      <th>0</th>\n",
       "      <td>서울특별시 강남구 개포동</td>\n",
       "      <td>658-1</td>\n",
       "      <td>658.0</td>\n",
       "      <td>1.0</td>\n",
       "      <td>개포6차우성</td>\n",
       "      <td>79.97</td>\n",
       "      <td>201712</td>\n",
       "      <td>8</td>\n",
       "      <td>3</td>\n",
       "      <td>1987</td>\n",
       "      <td>...</td>\n",
       "      <td>N</td>\n",
       "      <td>127.05721</td>\n",
       "      <td>37.476763</td>\n",
       "      <td>2022-11-17 10:19:06.0</td>\n",
       "      <td>124000.0</td>\n",
       "      <td>개포6차우성</td>\n",
       "      <td>11680100001448</td>\n",
       "      <td>8.0</td>\n",
       "      <td>270.0</td>\n",
       "      <td>1987-11-21</td>\n",
       "    </tr>\n",
       "    <tr>\n",
       "      <th>1</th>\n",
       "      <td>서울특별시 강남구 개포동</td>\n",
       "      <td>658-1</td>\n",
       "      <td>658.0</td>\n",
       "      <td>1.0</td>\n",
       "      <td>개포6차우성</td>\n",
       "      <td>79.97</td>\n",
       "      <td>201712</td>\n",
       "      <td>22</td>\n",
       "      <td>4</td>\n",
       "      <td>1987</td>\n",
       "      <td>...</td>\n",
       "      <td>N</td>\n",
       "      <td>127.05721</td>\n",
       "      <td>37.476763</td>\n",
       "      <td>2022-11-17 10:19:06.0</td>\n",
       "      <td>123500.0</td>\n",
       "      <td>개포6차우성</td>\n",
       "      <td>11680100001448</td>\n",
       "      <td>8.0</td>\n",
       "      <td>270.0</td>\n",
       "      <td>1987-11-21</td>\n",
       "    </tr>\n",
       "    <tr>\n",
       "      <th>2</th>\n",
       "      <td>서울특별시 강남구 개포동</td>\n",
       "      <td>658-1</td>\n",
       "      <td>658.0</td>\n",
       "      <td>1.0</td>\n",
       "      <td>개포6차우성</td>\n",
       "      <td>54.98</td>\n",
       "      <td>201712</td>\n",
       "      <td>28</td>\n",
       "      <td>5</td>\n",
       "      <td>1987</td>\n",
       "      <td>...</td>\n",
       "      <td>N</td>\n",
       "      <td>127.05721</td>\n",
       "      <td>37.476763</td>\n",
       "      <td>2022-11-17 10:19:06.0</td>\n",
       "      <td>91500.0</td>\n",
       "      <td>개포6차우성</td>\n",
       "      <td>11680100001448</td>\n",
       "      <td>8.0</td>\n",
       "      <td>270.0</td>\n",
       "      <td>1987-11-21</td>\n",
       "    </tr>\n",
       "  </tbody>\n",
       "</table>\n",
       "<p>3 rows × 57 columns</p>\n",
       "</div>"
      ],
      "text/plain": [
       "             시군구     번지     본번   부번    아파트명  전용면적(㎡)    계약년월  계약일  층  건축년도  \\\n",
       "0  서울특별시 강남구 개포동  658-1  658.0  1.0  개포6차우성    79.97  201712    8  3  1987   \n",
       "1  서울특별시 강남구 개포동  658-1  658.0  1.0  개포6차우성    79.97  201712   22  4  1987   \n",
       "2  서울특별시 강남구 개포동  658-1  658.0  1.0  개포6차우성    54.98  201712   28  5  1987   \n",
       "\n",
       "   ... 관리비 업로드        좌표X        좌표Y                  단지신청일    target     단지명  \\\n",
       "0  ...       N  127.05721  37.476763  2022-11-17 10:19:06.0  124000.0  개포6차우성   \n",
       "1  ...       N  127.05721  37.476763  2022-11-17 10:19:06.0  123500.0  개포6차우성   \n",
       "2  ...       N  127.05721  37.476763  2022-11-17 10:19:06.0   91500.0  개포6차우성   \n",
       "\n",
       "           단지고유번호 k-전체동수_y    세대수       사용승인일  \n",
       "0  11680100001448      8.0  270.0  1987-11-21  \n",
       "1  11680100001448      8.0  270.0  1987-11-21  \n",
       "2  11680100001448      8.0  270.0  1987-11-21  \n",
       "\n",
       "[3 rows x 57 columns]"
      ]
     },
     "execution_count": 11,
     "metadata": {},
     "output_type": "execute_result"
    }
   ],
   "source": [
    "concat.head(3)"
   ]
  },
  {
   "cell_type": "code",
   "execution_count": 12,
   "metadata": {},
   "outputs": [
    {
     "data": {
      "text/plain": [
       "시군구                              0\n",
       "번지                             227\n",
       "본번                              75\n",
       "부번                              75\n",
       "아파트명                      15120744\n",
       "전용면적(㎡)                          0\n",
       "계약년월                             0\n",
       "계약일                              0\n",
       "층                                0\n",
       "건축년도                             0\n",
       "도로명                              0\n",
       "해제사유발생일                   26369174\n",
       "등기신청일자                           0\n",
       "거래유형                             0\n",
       "중개사소재지                           0\n",
       "k-단지분류(아파트,주상복합등등)        26126899\n",
       "k-전화번호                    26126061\n",
       "k-팩스번호                    26128642\n",
       "단지소개기존clob                26512608\n",
       "k-세대타입(분양형태)              26125336\n",
       "k-관리방식                    26125336\n",
       "k-복도유형                    26125665\n",
       "k-난방방식                    26125336\n",
       "k-전체동수_x                  26126501\n",
       "k-전체세대수                   26125336\n",
       "k-건설사(시공사)                26127210\n",
       "k-시행사                     26127407\n",
       "k-사용검사일-사용승인일             26125470\n",
       "k-연면적                     26125336\n",
       "k-주거전용면적                  26125381\n",
       "k-관리비부과면적                 26125336\n",
       "k-전용면적별세대현황(60㎡이하)        26125381\n",
       "k-전용면적별세대현황(60㎡~85㎡이하)    26125381\n",
       "k-85㎡~135㎡이하              26125381\n",
       "k-135㎡초과                  26607388\n",
       "k-홈페이지                    26392454\n",
       "k-등록일자                    26591373\n",
       "k-수정일자                    26125381\n",
       "고용보험관리번호                  26176477\n",
       "경비비관리형태                   26126772\n",
       "세대전기계약방법                  26139884\n",
       "청소비관리형태                   26126962\n",
       "건축면적                      26125490\n",
       "주차대수                      26125488\n",
       "기타/의무/임대/임의=1/2/3/4       26125336\n",
       "단지승인일                     26126065\n",
       "사용허가여부                    26125336\n",
       "관리비 업로드                   26125336\n",
       "좌표X                       26125443\n",
       "좌표Y                       26125443\n",
       "단지신청일                     26125398\n",
       "target                      153711\n",
       "단지명                       15610567\n",
       "단지고유번호                      489823\n",
       "k-전체동수_y                    489823\n",
       "세대수                         489823\n",
       "사용승인일                       489823\n",
       "dtype: int64"
      ]
     },
     "execution_count": 12,
     "metadata": {},
     "output_type": "execute_result"
    }
   ],
   "source": [
    "concat.isna().sum()"
   ]
  }
 ],
 "metadata": {
  "kernelspec": {
   "display_name": "jean",
   "language": "python",
   "name": "jean"
  },
  "language_info": {
   "codemirror_mode": {
    "name": "ipython",
    "version": 3
   },
   "file_extension": ".py",
   "mimetype": "text/x-python",
   "name": "python",
   "nbconvert_exporter": "python",
   "pygments_lexer": "ipython3",
   "version": "3.11.5"
  }
 },
 "nbformat": 4,
 "nbformat_minor": 2
}
